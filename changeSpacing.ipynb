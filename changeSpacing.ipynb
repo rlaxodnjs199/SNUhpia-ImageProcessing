{
 "cells": [
  {
   "cell_type": "code",
   "execution_count": 49,
   "metadata": {},
   "outputs": [
    {
     "name": "stdout",
     "output_type": "stream",
     "text": [
      "Original image size(n_pixel): (512, 512, 107)\n",
      "Original image spacing: (0.68, 0.68, 3.0)\n",
      "Resampled image size(n_pixel): (512, 512, 107)\n",
      "Resampled image spacing: (0.34, 0.34, 1.5)\n"
     ]
    }
   ],
   "source": [
    "from __future__ import print_function\n",
    "\n",
    "import SimpleITK as sitk\n",
    "import numpy as np\n",
    "import sys, os\n",
    "\n",
    "data_directory = \"./dicomInput\"\n",
    "reader = sitk.ImageSeriesReader()\n",
    "dicom_names = reader.GetGDCMSeriesFileNames(data_directory)\n",
    "reader.SetFileNames(dicom_names)\n",
    "image = reader.Execute()\n",
    "size = image.GetSize()\n",
    "spacing = image.GetSpacing()\n",
    "print(\"Original image size(n_pixel):\", size)\n",
    "print(\"Original image spacing:\", spacing)\n",
    "\n",
    "image.SetSpacing(np.array(spacing) * 0.5)\n",
    "\n",
    "resampled_size = image.GetSize()\n",
    "resampled_spacing = image.GetSpacing()\n",
    "print(\"Resampled image size(n_pixel):\", resampled_size)\n",
    "print(\"Resampled image spacing:\", resampled_spacing)\n",
    "\n",
    "writer = sitk.ImageFileWriter()\n",
    "writer.KeepOriginalImageUIDOn()\n",
    "#Bring input image_file_names and sort\n",
    "inputImageList = os.listdir('./dicomInput')\n",
    "inputImageList.sort()\n",
    "#Write to the output_directory\n",
    "for i in range(image.GetDepth()):\n",
    "    resampled_image_slice = image[:,:,i]\n",
    "    writer.SetFileName(os.path.join('./dicomOutput', inputImageList[i]))\n",
    "    writer.Execute(resampled_image_slice)\n",
    "\n",
    "#.img format으로 저장하기\n",
    "#sitk.WriteImage( image, \"3DVolume.img\" )\n",
    "#if ( not \"SITK_NOSHOW\" in os.environ ):\n",
    "#    sitk.Show( image, \"Dicom Series\" )\n",
    "\n",
    "#나중에 서로 다른 크기의 이미지 파일을 하나로 통일해야할 때 data loss를 감내하면서 사용해야할 메소드\n",
    "#new_spacing = np.array(spacing) * 2\n",
    "#new_size = (np.round(size * (np.array(spacing)/new_spacing))).astype(int).tolist()\n",
    "#resampled_image = sitk.Resample(image, new_size, sitk.Transform(), sitk.sitkNearestNeighbor, image.GetOrigin(), new_spacing, image.GetDirection(), 0.0, image.GetPixelID())\n",
    "#resampled_image_size = resampled_image.GetSize()\n",
    "#resampled_image_spacing = resampled_image.GetSpacing()\n",
    "\n",
    "#Store resampled_image in output directory\n",
    "#for i in range(resampled_image.GetDepth()):\n",
    "#    resampled_image_slice = resampled_image[:,:,i]\n",
    "#    writer.SetFileName(os.path.join('./dicomOutput', str(inputImageList[i])))\n",
    "#    writer.Execute(resampled_image_slice)\n",
    "\n"
   ]
  },
  {
   "cell_type": "code",
   "execution_count": 51,
   "metadata": {},
   "outputs": [
    {
     "ename": "RuntimeError",
     "evalue": "Exception thrown in SimpleITK ImageSeriesReader_Execute: /Users/blowekamp/miniconda2/conda-bld/simpleitk_1546549798011/work/Code/IO/src/sitkImageSeriesReader.cxx:130:\nsitk::ERROR: File names information is empty. Cannot read series.",
     "output_type": "error",
     "traceback": [
      "\u001b[0;31m---------------------------------------------------------------------------\u001b[0m",
      "\u001b[0;31mRuntimeError\u001b[0m                              Traceback (most recent call last)",
      "\u001b[0;32m<ipython-input-51-eafd699ee979>\u001b[0m in \u001b[0;36m<module>\u001b[0;34m\u001b[0m\n\u001b[1;32m      3\u001b[0m \u001b[0mdicom_names\u001b[0m \u001b[0;34m=\u001b[0m \u001b[0mnewreader\u001b[0m\u001b[0;34m.\u001b[0m\u001b[0mGetGDCMSeriesFileNames\u001b[0m\u001b[0;34m(\u001b[0m\u001b[0mdata_directory\u001b[0m\u001b[0;34m)\u001b[0m\u001b[0;34m\u001b[0m\u001b[0;34m\u001b[0m\u001b[0m\n\u001b[1;32m      4\u001b[0m \u001b[0mnewreader\u001b[0m\u001b[0;34m.\u001b[0m\u001b[0mSetFileNames\u001b[0m\u001b[0;34m(\u001b[0m\u001b[0mdicom_names\u001b[0m\u001b[0;34m)\u001b[0m\u001b[0;34m\u001b[0m\u001b[0;34m\u001b[0m\u001b[0m\n\u001b[0;32m----> 5\u001b[0;31m \u001b[0mimage\u001b[0m \u001b[0;34m=\u001b[0m \u001b[0mnewreader\u001b[0m\u001b[0;34m.\u001b[0m\u001b[0mExecute\u001b[0m\u001b[0;34m(\u001b[0m\u001b[0;34m)\u001b[0m\u001b[0;34m\u001b[0m\u001b[0;34m\u001b[0m\u001b[0m\n\u001b[0m\u001b[1;32m      6\u001b[0m \u001b[0msitk\u001b[0m\u001b[0;34m.\u001b[0m\u001b[0mWriteImage\u001b[0m\u001b[0;34m(\u001b[0m \u001b[0mimage\u001b[0m\u001b[0;34m,\u001b[0m \u001b[0;34m\"3DVolume.img\"\u001b[0m \u001b[0;34m)\u001b[0m\u001b[0;34m\u001b[0m\u001b[0;34m\u001b[0m\u001b[0m\n\u001b[1;32m      7\u001b[0m \u001b[0;32mif\u001b[0m \u001b[0;34m(\u001b[0m \u001b[0;32mnot\u001b[0m \u001b[0;34m\"SITK_NOSHOW\"\u001b[0m \u001b[0;32min\u001b[0m \u001b[0mos\u001b[0m\u001b[0;34m.\u001b[0m\u001b[0menviron\u001b[0m \u001b[0;34m)\u001b[0m\u001b[0;34m:\u001b[0m\u001b[0;34m\u001b[0m\u001b[0;34m\u001b[0m\u001b[0m\n",
      "\u001b[0;32m/anaconda3/lib/python3.7/site-packages/SimpleITK/SimpleITK.py\u001b[0m in \u001b[0;36mExecute\u001b[0;34m(self)\u001b[0m\n\u001b[1;32m   8471\u001b[0m \u001b[0;34m\u001b[0m\u001b[0m\n\u001b[1;32m   8472\u001b[0m         \"\"\"\n\u001b[0;32m-> 8473\u001b[0;31m         \u001b[0;32mreturn\u001b[0m \u001b[0m_SimpleITK\u001b[0m\u001b[0;34m.\u001b[0m\u001b[0mImageSeriesReader_Execute\u001b[0m\u001b[0;34m(\u001b[0m\u001b[0mself\u001b[0m\u001b[0;34m)\u001b[0m\u001b[0;34m\u001b[0m\u001b[0;34m\u001b[0m\u001b[0m\n\u001b[0m\u001b[1;32m   8474\u001b[0m \u001b[0;34m\u001b[0m\u001b[0m\n\u001b[1;32m   8475\u001b[0m \u001b[0;34m\u001b[0m\u001b[0m\n",
      "\u001b[0;31mRuntimeError\u001b[0m: Exception thrown in SimpleITK ImageSeriesReader_Execute: /Users/blowekamp/miniconda2/conda-bld/simpleitk_1546549798011/work/Code/IO/src/sitkImageSeriesReader.cxx:130:\nsitk::ERROR: File names information is empty. Cannot read series."
     ]
    }
   ],
   "source": []
  },
  {
   "cell_type": "code",
   "execution_count": null,
   "metadata": {},
   "outputs": [],
   "source": []
  }
 ],
 "metadata": {
  "kernelspec": {
   "display_name": "Python 3",
   "language": "python",
   "name": "python3"
  },
  "language_info": {
   "codemirror_mode": {
    "name": "ipython",
    "version": 3
   },
   "file_extension": ".py",
   "mimetype": "text/x-python",
   "name": "python",
   "nbconvert_exporter": "python",
   "pygments_lexer": "ipython3",
   "version": "3.7.1"
  }
 },
 "nbformat": 4,
 "nbformat_minor": 2
}
